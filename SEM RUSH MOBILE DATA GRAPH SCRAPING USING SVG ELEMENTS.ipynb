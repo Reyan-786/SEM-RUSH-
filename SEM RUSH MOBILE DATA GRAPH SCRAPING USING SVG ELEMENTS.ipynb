{
 "cells": [
  {
   "cell_type": "code",
   "execution_count": 1,
   "id": "e3d3df0a",
   "metadata": {},
   "outputs": [],
   "source": [
    "from selenium.webdriver.chrome.options import Options\n",
    "from selenium.webdriver.support.ui import WebDriverWait\n",
    "from selenium.webdriver.support import expected_conditions as EC\n",
    "from selenium.webdriver.common.by import By\n",
    "from selenium import webdriver\n",
    "from selenium.webdriver.common.keys import Keys\n",
    "from selenium.webdriver.common.action_chains import ActionChains\n",
    "import datetime as dt\n",
    "import pandas as pd\n",
    "\n"
   ]
  },
  {
   "cell_type": "code",
   "execution_count": 2,
   "id": "cef419a9",
   "metadata": {},
   "outputs": [],
   "source": [
    "import time\n",
    "import os"
   ]
  },
  {
   "cell_type": "code",
   "execution_count": 5,
   "id": "6e273d60",
   "metadata": {},
   "outputs": [
    {
     "name": "stderr",
     "output_type": "stream",
     "text": [
      "C:\\Users\\asus\\AppData\\Local\\Temp\\ipykernel_16708\\1774144542.py:2: DeprecationWarning: executable_path has been deprecated, please pass in a Service object\n",
      "  driver = webdriver.Chrome(\"C:\\\\Users\\\\asus\\\\OneDrive\\\\Desktop\\\\Drivers\\\\chromedriver.exe\")\n"
     ]
    }
   ],
   "source": [
    "url = 'https://www.semrush.com/analytics/overview/?q=ebay.com&searchType=domain&db=in&device=mobile'\n",
    "driver = webdriver.Chrome(\"C:\\\\Users\\\\asus\\\\OneDrive\\\\Desktop\\\\Drivers\\\\chromedriver.exe\")\n",
    "driver.get(url)"
   ]
  },
  {
   "cell_type": "code",
   "execution_count": 6,
   "id": "b6da2094",
   "metadata": {},
   "outputs": [],
   "source": [
    "data = pd.read_excel(\"C:\\\\Users\\\\asus\\\\OneDrive\\\\Desktop\\\\SEM RUSH SCRAPING\\\\ravel.xlsx\")\n",
    "data = pd.DataFrame(data.to_numpy().ravel())\n",
    "# data = data[59:]\n",
    "os.chdir(\"C:\\\\Users\\\\asus\\\\OneDrive\\\\Desktop\\\\MOBILE SEMRUSH ALL TIME DATA FRAMES\")\n",
    "for domain in data[0]:\n",
    "    search = WebDriverWait(driver,15).until(EC.presence_of_element_located((By.XPATH, '/html/body/div[1]/div[4]/div/div/form/div[1]/input')))\n",
    "    search.send_keys(Keys.CONTROL,\"a\")\n",
    "    search.send_keys(Keys.BACKSPACE)\n",
    "    search.send_keys(domain)\n",
    "    search.send_keys(Keys.ENTER)\n",
    "    time.sleep(2)\n",
    "    df = pd.DataFrame({\"Date\":[],\"Organic Trafic\":[],\"Paid Traffic\":[]})\n",
    "    try:\n",
    "        element = WebDriverWait(driver,15).until(EC.presence_of_element_located((By.XPATH, \"//*[local-name()='svg' and @class='___SPlot_11q0k-red-team']//*[name()='path']\")))\n",
    "        ActionChains(driver).move_to_element_with_offset(element, -271, 0).perform()\n",
    "        for i in range(10, element.size['width']):\n",
    "            try:\n",
    "                ActionChains(driver).move_by_offset(6.3, 0).perform()\n",
    "                date = driver.find_element(By.XPATH,'/html/body/div[15]/div/div[1]').text\n",
    "                OT = driver.find_element(By.XPATH,'/html/body/div[15]/div/div[2]/div[2]/span').text\n",
    "                PT = driver.find_element(By.XPATH,'/html/body/div[15]/div/div[3]/div[2]/span').text\n",
    "                length = len(df)\n",
    "                df.loc[length] = [date,OT,PT]\n",
    "                df.to_excel(\"{}.xlsx\".format(domain.replace(\".\",\"_\")))\n",
    "            except:\n",
    "                continue\n",
    "    except:\n",
    "        continue"
   ]
  },
  {
   "cell_type": "code",
   "execution_count": null,
   "id": "29a0624e",
   "metadata": {},
   "outputs": [],
   "source": [
    "data = pd.read_excel(\"C:\\\\Users\\\\Faisal Ali Khan\\\\Desktop\\\\ravel.xlsx\")\n",
    "data = pd.DataFrame(data.to_numpy().ravel())\n",
    "os.chdir(\"C:\\\\Users\\\\Faisal Ali Khan\\\\Desktop\\\\mobile-exports\")\n",
    "for domain in data[0]:\n",
    "    search = WebDriverWait(driver,15).until(EC.presence_of_element_located((By.XPATH, '/html/body/div[1]/div[4]/div/div/form/div[1]/input')))\n",
    "    search.send_keys(Keys.CONTROL,\"a\")\n",
    "    search.send_keys(Keys.BACKSPACE)\n",
    "    search.send_keys(domain)\n",
    "    search.send_keys(Keys.ENTER)\n",
    "    time.sleep(2)\n",
    "    df = pd.DataFrame({\"Date\":[],\"Organic Trafic\":[],\"Paid Traffic\":[]})\n",
    "    try:\n",
    "        element = WebDriverWait(driver,15).until(EC.presence_of_element_located((By.XPATH, \"//*[local-name()='svg' and @class='___SPlot_11q0k-red-team']//*[name()='path']\")))\n",
    "        ActionChains(driver).move_to_element_with_offset(element, -271, 0).perform()\n",
    "        for i in range(10, element.size['width']):\n",
    "            try:\n",
    "                ActionChains(driver).move_by_offset(6.3, 0).perform()\n",
    "                date = driver.find_element(By.XPATH,'/html/body/div[15]/div/div[1]').text\n",
    "                OT = driver.find_element(By.XPATH,'/html/body/div[15]/div/div[2]/div[2]/span').text\n",
    "                PT = driver.find_element(By.XPATH,'/html/body/div[15]/div/div[3]/div[2]/span').text\n",
    "                length = len(df)\n",
    "                df.loc[length] = [date,OT,PT]\n",
    "                df.to_excel(\"{}.xlsx\".format(domain))\n",
    "            except:\n",
    "                continue\n",
    "    except:\n",
    "        continue"
   ]
  }
 ],
 "metadata": {
  "kernelspec": {
   "display_name": "Python 3",
   "language": "python",
   "name": "python3"
  },
  "language_info": {
   "codemirror_mode": {
    "name": "ipython",
    "version": 3
   },
   "file_extension": ".py",
   "mimetype": "text/x-python",
   "name": "python",
   "nbconvert_exporter": "python",
   "pygments_lexer": "ipython3",
   "version": "3.10.7"
  }
 },
 "nbformat": 4,
 "nbformat_minor": 5
}
